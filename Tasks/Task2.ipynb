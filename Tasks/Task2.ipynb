{
 "cells": [
  {
   "cell_type": "markdown",
   "id": "3d7cc7bf",
   "metadata": {},
   "source": [
    "### Задание №1\n",
    "Массив A состоит из целых положительных чисел длин отрезков. Составьте из трех отрезков такой треугольник, чтобы его периметр был максимально возможным. Если невозможно составить треугольник с положительной площадью функция возвращает 0."
   ]
  },
  {
   "cell_type": "code",
   "execution_count": 2,
   "id": "ee449da7",
   "metadata": {
    "scrolled": false
   },
   "outputs": [
    {
     "name": "stdout",
     "output_type": "stream",
     "text": [
      "Пожалуйста, введите длину массива \n",
      "4\n",
      "\n",
      "1\n",
      "2\n",
      "2\n",
      "3\n",
      "\n",
      "7\n"
     ]
    }
   ],
   "source": [
    "def max_perimeter(arr):\n",
    "    arr_sorted = sorted(arr)\n",
    "    i = len(arr_sorted)-3\n",
    "\n",
    "    while i>=0:\n",
    "        if arr_sorted[i] + arr_sorted[i+1] > arr_sorted[i+2]:\n",
    "            return arr_sorted[i] + arr_sorted[i+1] + arr_sorted[i+2]\n",
    "        i-=1\n",
    "    return 0\n",
    " \n",
    "n = int(input(\"Пожалуйста, введите длину массива \\n\"))\n",
    "print()\n",
    "\n",
    "arr = []\n",
    "for i in range(n):\n",
    "    arr.append(int(input()))\n",
    "\n",
    "\n",
    "print()\n",
    "print(max_perimeter(arr))"
   ]
  },
  {
   "cell_type": "markdown",
   "id": "06c968d1",
   "metadata": {},
   "source": [
    "### Задание №2\n",
    "Дан массив неотрицательных целых чисел nums. Расположите их в таком порядке, чтобы вместе они образовали максимально возможное число. Замечание: Результат может быть очень большим числом, поэтому представьте его как string, а не integer."
   ]
  },
  {
   "cell_type": "code",
   "execution_count": 11,
   "id": "c051595b",
   "metadata": {
    "scrolled": false
   },
   "outputs": [
    {
     "name": "stdout",
     "output_type": "stream",
     "text": [
      "5\n",
      "5\n",
      "6\n",
      "7\n",
      "8\n",
      "9\n",
      "98765\n"
     ]
    }
   ],
   "source": [
    "n = int(input())\n",
    "nums = [str(input()) for i in range(n)]\n",
    "length = 0\n",
    "num_mas = []\n",
    "\n",
    "def minLen():\n",
    "    min_len = 100\n",
    "    \n",
    "    for i in nums:\n",
    "        if len(i) < min_len:\n",
    "            min_len = len(i)\n",
    "    \n",
    "    return min_len\n",
    "\n",
    "def digit_op(first_num):\n",
    "    digit_res = \"\"\n",
    "    \n",
    "    \n",
    "    for i in range(len(nums)):\n",
    "        \n",
    "        if (nums[i][0] == str(first_num)): \n",
    "            num_mas.append(nums[i])\n",
    "\n",
    "    length = minLen()\n",
    "\n",
    "    if (length == 0): \n",
    "        return \"\"\n",
    "    \n",
    "    while(True):\n",
    "        choise = \"0\" * length\n",
    "        \n",
    "        for i in num_mas:\n",
    "            \n",
    "            if int(i[0:length]) == int(str(choise)[0:length]):\n",
    "                choise = min(int(i), int(choise))\n",
    "            \n",
    "            if int(i[0:length]) > int(str(choise)[0:length]):\n",
    "                choise = str(i)\n",
    "        \n",
    "        if (choise == \"0\" * length): \n",
    "            break\n",
    "        \n",
    "        digit_res += str(choise)\n",
    "        num_mas.pop(num_mas.index(str(choise)))\n",
    "        length = minLen()\n",
    "\n",
    "    return digit_res\n",
    "\n",
    "def max_digit():\n",
    "    res = \"\"\n",
    "    \n",
    "    for i in range(9, 0, -1):\n",
    "        res += digit_op(i)\n",
    "    \n",
    "    print(res)\n",
    "    \n",
    "max_digit()"
   ]
  },
  {
   "cell_type": "markdown",
   "id": "015ec9a7",
   "metadata": {},
   "source": [
    "### Задание №3\n",
    "Дана матрица mat размером m * n, значения целочисленные. Напишите функцию, сортирующую каждую диагональ матрицы по возрастанию и возвращающую получившуюся матрицу."
   ]
  },
  {
   "cell_type": "code",
   "execution_count": 4,
   "id": "2ede9422",
   "metadata": {
    "scrolled": false
   },
   "outputs": [
    {
     "name": "stdout",
     "output_type": "stream",
     "text": [
      "[-23, -51, -39, 44]\n",
      "[47, -21, -70, -30]\n",
      "[-83, 34, -72, -62]\n",
      "[-22, 31, 36, -20]\n",
      "\n",
      " -72 -70 -39  44\n",
      "\n",
      "  34 -23 -62 -30\n",
      "\n",
      " -83  36 -21 -51\n",
      "\n",
      " -22  31  47 -20\n",
      "\n"
     ]
    }
   ],
   "source": [
    "from collections import defaultdict\n",
    "import heapq\n",
    "from random import randint\n",
    "\n",
    "def disp_matr(a):\n",
    "    for i in a:\n",
    "        print(''.join('%4d'% j for j in i))\n",
    "        print()\n",
    "\n",
    "def diag_sort(di_in, m, n):\n",
    "    di = defaultdict(list)\n",
    "    \n",
    "    for i in range(m):\n",
    "        for j in range(n):\n",
    "            heapq.heappush(di[i-j], di_in[i][j])\n",
    "    \n",
    "    \n",
    "    return [[heapq.heappop(di[i-j]) for j in range(n)] for i in range(m)]\n",
    "\n",
    "\n",
    "m, n = 4, 4\n",
    "arr = [[randint(-100,100) for i in range(n)] for j in range(m)]\n",
    "\n",
    "for i in arr:\n",
    "    print(i)\n",
    "\n",
    "print()\n",
    "sorted_arr = diag_sort(arr, m, n)\n",
    "\n",
    "disp_matr(sorted_arr)"
   ]
  }
 ],
 "metadata": {
  "interpreter": {
   "hash": "91bb753b057673435fb8d6f6a083e6c818364728098c7ae050ca3a25357dd754"
  },
  "kernelspec": {
   "display_name": "Python 3 (ipykernel)",
   "language": "python",
   "name": "python3"
  },
  "language_info": {
   "codemirror_mode": {
    "name": "ipython",
    "version": 3
   },
   "file_extension": ".py",
   "mimetype": "text/x-python",
   "name": "python",
   "nbconvert_exporter": "python",
   "pygments_lexer": "ipython3",
   "version": "3.10.5"
  }
 },
 "nbformat": 4,
 "nbformat_minor": 5
}
