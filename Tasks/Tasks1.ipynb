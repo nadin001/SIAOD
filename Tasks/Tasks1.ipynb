{
 "cells": [
  {
   "cell_type": "markdown",
   "id": "ded5c40d",
   "metadata": {},
   "source": [
    "# Задание 1"
   ]
  },
  {
   "cell_type": "markdown",
   "id": "298ced0c",
   "metadata": {},
   "source": [
    "Даны две строки: `s1` и `s2` с одинаковым размером.\n",
    "\n",
    "Проверьте, может ли некоторая перестановка строки `s1` “победить” некоторую перестановку строки `s2` или наоборот.\n",
    "\n",
    "Строка x может “победить” строку y (обе имеют размер n), если `x[i] >= y[i]` (в алфавитном порядке) для всех i от 0 до n-1.\n"
   ]
  },
  {
   "cell_type": "markdown",
   "id": "1aed3836",
   "metadata": {},
   "source": [
    "### Ввод"
   ]
  },
  {
   "cell_type": "markdown",
   "id": "25de14b7",
   "metadata": {},
   "source": [
    "`abc`\n",
    "`xya`"
   ]
  },
  {
   "cell_type": "markdown",
   "id": "6817dda2",
   "metadata": {},
   "source": [
    "### Вывод"
   ]
  },
  {
   "cell_type": "markdown",
   "id": "1c7bc9fb",
   "metadata": {},
   "source": [
    "`True`\n",
    "\n",
    "### Исполняемый код записать в ячейку ниже:"
   ]
  },
  {
   "cell_type": "code",
   "execution_count": 3,
   "id": "e3de7889",
   "metadata": {},
   "outputs": [
    {
     "name": "stdout",
     "output_type": "stream",
     "text": [
      "False\n"
     ]
    }
   ],
   "source": [
    "s1_1 = str(input())\n",
    "s2_1 = str(input())\n",
    "can = True\n",
    "s1_1 = sorted(s1_1)\n",
    "s2_1 = sorted(s2_1)\n",
    "if len(s1_1) == len(s2_1):\n",
    "    for i in range (len(s1_1)):\n",
    "        if s1_1[i] > s2_1[i]:\n",
    "            can = False\n",
    "print(can)"
   ]
  },
  {
   "cell_type": "markdown",
   "id": "8859bb7a",
   "metadata": {},
   "source": [
    "# Задание 2"
   ]
  },
  {
   "cell_type": "markdown",
   "id": "1c15d7a3",
   "metadata": {},
   "source": [
    "Дана строка `s`, вернуть самую длинную полиндромную подстроку в `s`."
   ]
  },
  {
   "cell_type": "markdown",
   "id": "1fa6750c",
   "metadata": {},
   "source": [
    "### Ввод"
   ]
  },
  {
   "cell_type": "markdown",
   "id": "aaab86a9",
   "metadata": {},
   "source": [
    "`babad`"
   ]
  },
  {
   "cell_type": "markdown",
   "id": "8a6ce316",
   "metadata": {},
   "source": [
    "### Вывод"
   ]
  },
  {
   "cell_type": "markdown",
   "id": "98e51031",
   "metadata": {},
   "source": [
    "`aba` или `bab`"
   ]
  },
  {
   "cell_type": "markdown",
   "id": "002881bf",
   "metadata": {},
   "source": [
    "## Исполняемый код записывать в ячейку ниже"
   ]
  },
  {
   "cell_type": "code",
   "execution_count": 18,
   "id": "55895b14",
   "metadata": {},
   "outputs": [
    {
     "name": "stdout",
     "output_type": "stream",
     "text": [
      "False\n",
      "True\n",
      "12312asdasvvvvvvvvfvvvvvvvvvvv\n",
      "The longest is: vvvvvvvvfvvvvvvvv\n"
     ]
    }
   ],
   "source": [
    "def isPol(st):\n",
    "    st1 = st[::-1]\n",
    "    if st1 == st:\n",
    "        return True\n",
    "    else:\n",
    "        return False\n",
    "    \n",
    "s_2 = str(input())\n",
    "longest_pal = \"\"\n",
    "cur_st = \"\"\n",
    "for i in range(len(s_2)-1):\n",
    "    cur_st += s_2[i]\n",
    "    for j in range (i+1,len(s_2)):\n",
    "        cur_st += s_2[j]\n",
    "        if isPol(cur_st) == True and len(cur_st) >= len(longest_pal):\n",
    "            longest_pal = cur_st\n",
    "    cur_st = \"\"\n",
    "print(\"The longest is:\",longest_pal)\n",
    "        \n",
    "        "
   ]
  },
  {
   "cell_type": "markdown",
   "id": "cf4ba426",
   "metadata": {},
   "source": [
    "# Задание 3"
   ]
  },
  {
   "cell_type": "markdown",
   "id": "14183e22",
   "metadata": {},
   "source": [
    "Вернуть количество отдельных непустых подстрок текста, которые могут быть записаны как конкатенация некоторой строки с самой собой (т.е. она может быть записана, как `a + a`, где `a` - некоторая строка)."
   ]
  },
  {
   "cell_type": "markdown",
   "id": "3b88059b",
   "metadata": {},
   "source": [
    "### Ввод"
   ]
  },
  {
   "cell_type": "markdown",
   "id": "c22044d4",
   "metadata": {},
   "source": [
    "`aabb`"
   ]
  },
  {
   "cell_type": "markdown",
   "id": "c6ae3496",
   "metadata": {},
   "source": [
    "### Вывод"
   ]
  },
  {
   "cell_type": "markdown",
   "id": "89c6d699",
   "metadata": {},
   "source": [
    "2"
   ]
  },
  {
   "cell_type": "markdown",
   "id": "151c2e35",
   "metadata": {},
   "source": [
    "## Исполняемый код записывать в ячейку ниже"
   ]
  },
  {
   "cell_type": "code",
   "execution_count": 2,
   "id": "19dee891",
   "metadata": {},
   "outputs": [
    {
     "name": "stdout",
     "output_type": "stream",
     "text": [
      "2\n"
     ]
    }
   ],
   "source": [
    "str1 = input()\n",
    "\n",
    "def concat_str(str1):\n",
    "    flag = 0\n",
    "    for i in range(len(str1)):\n",
    "        for j in range(i+1, len(str1)):\n",
    "            sub1 = str1[i:j]\n",
    "            l = len(sub1)\n",
    "            if j + l <= len(str1):\n",
    "                sub2 = str1[i+l:j+l]\n",
    "                if sub1==sub2:\n",
    "                    flag += 1\n",
    "    return flag\n",
    "print(concat_str(str1))\n",
    "#print(str1[3:4])"
   ]
  }
 ],
 "metadata": {
  "interpreter": {
   "hash": "91bb753b057673435fb8d6f6a083e6c818364728098c7ae050ca3a25357dd754"
  },
  "kernelspec": {
   "display_name": "Python 3 (ipykernel)",
   "language": "python",
   "name": "python3"
  },
  "language_info": {
   "codemirror_mode": {
    "name": "ipython",
    "version": 3
   },
   "file_extension": ".py",
   "mimetype": "text/x-python",
   "name": "python",
   "nbconvert_exporter": "python",
   "pygments_lexer": "ipython3",
   "version": "3.10.5"
  }
 },
 "nbformat": 4,
 "nbformat_minor": 5
}
