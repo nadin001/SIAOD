{
 "cells": [
  {
   "cell_type": "markdown",
   "id": "87c155bd",
   "metadata": {},
   "source": [
    "# Лабораторная работа №3\n",
    "## Выполнила студентка группы БВТ2001 Моисеева Надежда Александровна"
   ]
  },
  {
   "cell_type": "markdown",
   "id": "246d38e6",
   "metadata": {},
   "source": [
    "### Оглавление\n",
    "1. [Задание 1](#Задание-№1)\n",
    "2. [Задание 2](#Задание-№2)\n",
    "4. [Вывод](#Вывод)"
   ]
  },
  {
   "cell_type": "markdown",
   "id": "846f4eb0",
   "metadata": {},
   "source": [
    "> Дополнительные модули, использованные при выполнение лабораторной"
   ]
  },
  {
   "cell_type": "code",
   "execution_count": 1,
   "id": "bf026e60",
   "metadata": {},
   "outputs": [],
   "source": [
    "# Необходим при замере скорости выполнения кода\n",
    "from datetime import datetime as t\n",
    "# Нужен для создания словаря в алг. Бойера-Мура\n",
    "from collections import defaultdict\n",
    "\n",
    "import time"
   ]
  },
  {
   "cell_type": "markdown",
   "id": "c5862d35",
   "metadata": {},
   "source": [
    "### Задание №1\n",
    "Реализовать методы поиска подстроки в строке. Добавить возможность ввода строки и подстроки с клавиатуры. Предусмотреть возможность существования пробела. Реализовать возможность выбора опции чувствительности или нечувствительности к регистру. Оценить время работы каждого алгоритма поиска и сравнить его со временем работы стандартной функции поиска, используемой в выбранном языке программирования."
   ]
  },
  {
   "cell_type": "code",
   "execution_count": 2,
   "id": "03aedfe0",
   "metadata": {},
   "outputs": [
    {
     "name": "stdout",
     "output_type": "stream",
     "text": [
      "Введите строку:MynameisSergeyIamauniversitystudent\n",
      "Введите подстроку:student\n"
     ]
    }
   ],
   "source": [
    "# ввод данных\n",
    "stroka = str(input(\"Введите строку:\"))\n",
    "podstroka = str(input(\"Введите подстроку:\"))"
   ]
  },
  {
   "cell_type": "markdown",
   "id": "ae1eee51",
   "metadata": {},
   "source": [
    "#### Алгоритм Кнута-Морриса-Пратта"
   ]
  },
  {
   "cell_type": "code",
   "execution_count": 3,
   "id": "b5c253bb",
   "metadata": {},
   "outputs": [],
   "source": [
    "def kmp(s, t ,low_case):\n",
    "    if low_case == True:\n",
    "        s = s.lower()\n",
    "        t = t.lower()\n",
    "    d = prefix(t)\n",
    "    i = j = 0\n",
    "    while i<len(s) and j<len(t):\n",
    "        if t[j] == s[i]:\n",
    "            i+=1\n",
    "            j+=1\n",
    "        elif j==0:\n",
    "            i+=1\n",
    "        else:\n",
    "            j = d[j-1]\n",
    "    else:\n",
    "        if j == len(t):\n",
    "            return i-j\n",
    "        return None\n",
    "\n",
    "def prefix(s):\n",
    "    v = [0]*len(s)\n",
    "    for i in range(1,len(s)):\n",
    "        k = v[i-1]\n",
    "        while k > 0 and s[k] != s[i]:\n",
    "            k = v[k-1]\n",
    "        if s[k] == s[i]:\n",
    "            k = k + 1\n",
    "        v[i] = k\n",
    "    return v"
   ]
  },
  {
   "cell_type": "markdown",
   "id": "8e61fcfe",
   "metadata": {},
   "source": [
    "#### Упрощенный алгоритм Бойера-Мура"
   ]
  },
  {
   "cell_type": "code",
   "execution_count": 10,
   "id": "2c44a1be",
   "metadata": {},
   "outputs": [],
   "source": [
    "\n",
    "\n",
    "\n",
    "\n",
    "def bmPredCompil(x):\n",
    "    d = {}\n",
    "    lenX = len(x)\n",
    "    for i in xrange(len(x)):\n",
    "        # сколько символов с правого края до этой буквы\n",
    "        d[ord(x[i])] = lenX - i\n",
    "    return d\n",
    "\n",
    "\n",
    "\n",
    "def boyerMurSearch(s, x, lower_case):\n",
    "    if low_case == True:\n",
    "        s = s.lower()\n",
    "        x = p.lower()\n",
    "    d = bmPredCompil(x)\n",
    "    # k - проход по s\n",
    "    # j - проход по x\n",
    "    # i - место начала прохода по s\n",
    "    lenX = i = j = k = len(x)\n",
    "    while j > 0 and i<=len(s):\n",
    "     # совпали, двигаемся дальше (от конца к началу)\n",
    "        if s[k-1] == x[j-1]:\n",
    "            k -= 1\n",
    "            j -= 1\n",
    "        # иначе, продвигаемся по строке на d и начинаем с правого конца подстроки снова\n",
    "        else:\n",
    "            i += d[ord(s[i])]\n",
    "            j = lenX\n",
    "            k = i\n",
    "    if j <= 0:# нашли\n",
    "        return k\n",
    "    return None # не нашли"
   ]
  },
  {
   "cell_type": "markdown",
   "id": "d69159e5",
   "metadata": {},
   "source": [
    "#### Стандартный поиск"
   ]
  },
  {
   "cell_type": "code",
   "execution_count": 5,
   "id": "66d7368c",
   "metadata": {},
   "outputs": [],
   "source": [
    "def search_std(s,p,low_case):\n",
    "    if low_case == True:\n",
    "        s = s.lower()\n",
    "        p = p.lower()\n",
    "    return s.index(p)"
   ]
  },
  {
   "cell_type": "markdown",
   "id": "cd644aa2",
   "metadata": {},
   "source": [
    "### Сравнение времени работы"
   ]
  },
  {
   "cell_type": "markdown",
   "id": "f89a8234",
   "metadata": {},
   "source": [
    "#### Алгоритм Кнута-Морриса-Пратта"
   ]
  },
  {
   "cell_type": "code",
   "execution_count": 6,
   "id": "2b764259",
   "metadata": {},
   "outputs": [
    {
     "name": "stdout",
     "output_type": "stream",
     "text": [
      "28\n",
      "Вычисление заняло 0.0000900000 секунд\n"
     ]
    }
   ],
   "source": [
    "tik1 = time.perf_counter()\n",
    "kmp_res = kmp(stroka, podstroka, True)\n",
    "tok1 = time.perf_counter()\n",
    "\n",
    "diff1 = tok1-tik1\n",
    "\n",
    "print(kmp_res)\n",
    "print(f\"Вычисление заняло {tok1 - tik1:0.10f} секунд\")"
   ]
  },
  {
   "cell_type": "markdown",
   "id": "de9ea9e1",
   "metadata": {},
   "source": [
    "#### Упрощенный алгоритм Бойера-Мура"
   ]
  },
  {
   "cell_type": "code",
   "execution_count": 11,
   "id": "b42f77be",
   "metadata": {},
   "outputs": [
    {
     "name": "stdout",
     "output_type": "stream",
     "text": [
      "28\n",
      "Вычисление заняло 0.0000665000 секунд\n"
     ]
    }
   ],
   "source": [
    "tik2 = time.perf_counter()\n",
    "std_s = search_std(stroka, podstroka, True)\n",
    "tok2 = time.perf_counter()\n",
    "\n",
    "diff2 = tok2-tik2\n",
    "print(std_s)\n",
    "print(f\"Вычисление заняло {tok2 - tik2:0.10f} секунд\")"
   ]
  },
  {
   "cell_type": "markdown",
   "id": "f3945e83",
   "metadata": {},
   "source": [
    "#### Встроенная функция"
   ]
  },
  {
   "cell_type": "code",
   "execution_count": 8,
   "id": "535accef",
   "metadata": {},
   "outputs": [
    {
     "name": "stdout",
     "output_type": "stream",
     "text": [
      "28\n",
      "Вычисление заняло 0.0000667000 секунд\n"
     ]
    }
   ],
   "source": [
    "tik3 = time.perf_counter()\n",
    "std_s = search_std(stroka, podstroka, True)\n",
    "tok3 = time.perf_counter()\n",
    "\n",
    "diff3 = tok3-tik3\n",
    "print(std_s)\n",
    "print(f\"Вычисление заняло {tok3 - tik3:0.10f} секунд\")"
   ]
  },
  {
   "cell_type": "markdown",
   "id": "03004855",
   "metadata": {},
   "source": [
    "### Задание №2\n",
    "Написать программу, определяющую, является ли данное\n",
    "расположение «решаемым», то есть можно ли из него за конечное число\n",
    "шагов перейти к правильному. Если это возможно, то необходимо найти хотя\n",
    "бы одно решение - последовательность движений, после которой числа будут\n",
    "расположены в правильном порядке.\n",
    "#### Входные данные: массив чисел, представляющий собой расстановку в\n",
    "Порядке «слева направо, сверху вниз». Число 0 обозначает пустое поле.\n",
    "Например, массив [1, 2, 3, 4, 5, 6, 7, 8, 9, 10, 11, 12, 13, 14, 15, 0] представляет\n",
    "собой «решенную» позицию элементов.\n",
    "#### Выходные данные: если решения нет, то функция должна вернуть\n",
    "Пустой массив []. Если решение есть, то необходимо представить решение —\n",
    "для каждого шага записывается номер передвигаемого на данном шаге\n",
    "элемента. "
   ]
  },
  {
   "cell_type": "code",
   "execution_count": 1,
   "id": "569660c0",
   "metadata": {},
   "outputs": [
    {
     "name": "stdout",
     "output_type": "stream",
     "text": [
      "  1  2  3  4\n",
      "  5  6  7  8\n",
      " 13  9 11 12\n",
      " 10 14 15  0\n",
      "\n",
      "[15, 14, 10, 13, 9, 10, 14, 15]\n"
     ]
    }
   ],
   "source": [
    "from queue import PriorityQueue\n",
    "\n",
    "N = 4\n",
    "\n",
    "# Функция, определяющая движение пятнашек\n",
    "def moves(position):\n",
    "    blank = position.index(0)\n",
    "    # Возвращаются значения из кортежа с целой частью и остатком\n",
    "    i, j = divmod(blank, N)\n",
    "    # Задаем массив из смещений\n",
    "    offsets = []\n",
    "    # Движение вниз\n",
    "    if i > 0: offsets.append(-N)     \n",
    "    # Движение вверх\n",
    "    if i < N - 1: offsets.append(N)  \n",
    "    # Движение вправо\n",
    "    if j > 0: offsets.append(-1)\n",
    "    # Движение влево\n",
    "    if j < N - 1: offsets.append(1)  \n",
    "    for offset in offsets:\n",
    "        # Заполянем пустую ячейку элементом, который мы двигаем\n",
    "        swap = blank + offset\n",
    "        # Проверяем на то, является ли заменяемая ячейка пустой,\n",
    "        # и в случае, если у нас есть следующий элемент (не конец),\n",
    "        # то выводим ее индекс, а иначе индекс последнего элемента\n",
    "        yield tuple(position[swap] if x==blank else position[blank] if x==swap else position[x] for x in range(N*N))\n",
    "\n",
    "# Функция, определяющая есть ли у пятнашек конечное решение\n",
    "def parity(permutation):\n",
    "    # Создаем набор из уникальных данных с пройденными ячейками\n",
    "    # и создаем кол-во циклов прохождения по массиву ячеек\n",
    "    seen, cycles = set(), 0\n",
    "    for i in permutation:\n",
    "        # Проверяем на наличие текущей ячейки в нашем наборе при перестановке\n",
    "        # и добавляем его в набор при его отсутствии в нем\n",
    "        if i not in seen:\n",
    "            # Наращиваем счетчик циклов при отсутствии значений в наборе\n",
    "            cycles += 1\n",
    "            while i not in seen:\n",
    "                seen.add(i)\n",
    "                i = permutation[i]\n",
    "    return (cycles + len(permutation)) % 2\n",
    "\n",
    "# Класс, определяющий параметры заданного набора\n",
    "class Position:\n",
    "    # Конструктор, принимающий позицию и начальную дистанцию\n",
    "    def __init__(self, position, start_distance):\n",
    "        self.position = position\n",
    "        self.start_distance = start_distance\n",
    "\n",
    "    # Функция, срабатывающая при сравнении (<) объекта с другим объектом\n",
    "    def __lt__(self, other):\n",
    "        return self.start_distance < other.start_distance\n",
    "\n",
    "    # Функция, срабатывающая при использовании объекта как строки\n",
    "    # и создающая пятнашки в виде квадратной матрицы\n",
    "    def __str__(self):\n",
    "        return '\\n'.join((N*'{:3}').format(*[i%(N*N) for i in self.position[i:]]) \n",
    "for i in range(0, N*N, N))\n",
    "\n",
    "SOLVED = (1, 2, 3, 4, 5, 6, 7, 8, 9, 10, 11, 12, 13, 14, 15, 0)\n",
    "start = [1, 2, 3, 4, 5, 6, 7, 8, 13, 9, 11, 12, 10, 14, 15, 0]\n",
    "\n",
    "# Проверяем, можно ли в данной расстановке найти решение. Если нет, то выводим предупреждающее сообщение\n",
    "if parity(start) == 0:\n",
    "    print('Задачу решить нельзя')\n",
    "else:\n",
    "    # Иначе заполняем наш кортеж значниями из данного набора\n",
    "    start = tuple(start)\n",
    "    \n",
    "    p = Position(start, 0)\n",
    "\n",
    "    print(p)\n",
    "    print()\n",
    "\n",
    "    # Кладем в очередь с приоритетом первоначальную позицию\n",
    "    candidates = PriorityQueue()\n",
    "    candidates.put(p)\n",
    "\n",
    "    # Кортеж посещенных нами позиций\n",
    "    visited = set([p])\n",
    "    # Словарь из позиции в качестве ключа, значение которого в дальнейшем\n",
    "    # будем заполнять теми ячейками, которые стоит переместить для получения решения\n",
    "    came_from = {p.position: None}\n",
    "    \n",
    "    while p.position != SOLVED:\n",
    "        # Извлекаем из очереди позицию с наименьшим приоритетом\n",
    "        p = candidates.get()\n",
    "        # Кладем в очередь все соседние позиции. Повторяем, пока не вытащим конечную позицию из очереди\n",
    "        for k in moves(p.position):\n",
    "            if k not in visited:\n",
    "                candidates.put(Position(k, p.start_distance + 1))\n",
    "                came_from[k] = p\n",
    "                visited.add(k)\n",
    "\n",
    "    # Последовательное решение пятнашек (путь)\n",
    "    path = []\n",
    "    # Сохраняем конечную позицию\n",
    "    prev = p\n",
    "    # Идем в обратном порядке и запоминаем очередность хода в path\n",
    "    while p.position != start:\n",
    "        # Запоминаем, откуда ход\n",
    "        p = came_from[p.position]\n",
    "        number = p.position[prev.position.index(0)]\n",
    "        path.append(number)\n",
    "        prev = p\n",
    "    path.reverse()\n",
    "\n",
    "    print(path)"
   ]
  },
  {
   "cell_type": "markdown",
   "id": "feef29a8",
   "metadata": {},
   "source": [
    "### Вывод"
   ]
  },
  {
   "cell_type": "markdown",
   "id": "ff99e8ed",
   "metadata": {},
   "source": [
    "#### Изучила алгоритмы КМП и Бойера-Мура, которые работают значительно быстрее обычного перебора. Сравнила результаты с встроенным поиском, который по времени вычисления оказался самым быстрым"
   ]
  },
  {
   "cell_type": "code",
   "execution_count": null,
   "id": "88b3e8e7",
   "metadata": {},
   "outputs": [],
   "source": []
  }
 ],
 "metadata": {
  "kernelspec": {
   "display_name": "Python 3 (ipykernel)",
   "language": "python",
   "name": "python3"
  },
  "language_info": {
   "codemirror_mode": {
    "name": "ipython",
    "version": 3
   },
   "file_extension": ".py",
   "mimetype": "text/x-python",
   "name": "python",
   "nbconvert_exporter": "python",
   "pygments_lexer": "ipython3",
   "version": "3.10.5"
  }
 },
 "nbformat": 4,
 "nbformat_minor": 5
}
